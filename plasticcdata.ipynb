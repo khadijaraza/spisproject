{
  "nbformat": 4,
  "nbformat_minor": 0,
  "metadata": {
    "colab": {
      "provenance": [],
      "authorship_tag": "ABX9TyMeP0XlAt7+XLj6mW4eymTz",
      "include_colab_link": true
    },
    "kernelspec": {
      "name": "python3",
      "display_name": "Python 3"
    },
    "language_info": {
      "name": "python"
    }
  },
  "cells": [
    {
      "cell_type": "markdown",
      "metadata": {
        "id": "view-in-github",
        "colab_type": "text"
      },
      "source": [
        "<a href=\"https://colab.research.google.com/github/khadijaraza/spisproject/blob/main/plasticcdata.ipynb\" target=\"_parent\"><img src=\"https://colab.research.google.com/assets/colab-badge.svg\" alt=\"Open In Colab\"/></a>"
      ]
    },
    {
      "cell_type": "code",
      "execution_count": 56,
      "metadata": {
        "id": "xU9j2Ez3RurM"
      },
      "outputs": [],
      "source": [
        "import pandas as pd\n",
        "import numpy as np\n",
        "import os\n",
        "from tqdm import tqdm\n",
        "\n",
        "from sklearn.ensemble import RandomForestClassifier\n",
        "from sklearn.model_selection import train_test_split\n",
        "from sklearn.metrics import classification_report, confusion_matrix\n",
        "from imblearn.over_sampling import SMOTE\n",
        "\n",
        "import seaborn as sns\n",
        "import matplotlib.pyplot as plt\n",
        "from scipy.stats import skew, kurtosis"
      ]
    },
    {
      "cell_type": "code",
      "source": [
        "#mapping target numbers to actual class names for celestial object classification\n",
        "largeclass_map = {\n",
        "    90: \"Supernova Event\", #Ia\n",
        "    67: \"Supernova Event\", #Ia - Old\n",
        "    52: \"Supernova Event\", #Ia - New\n",
        "    62: \"Supernova Event\", #Ib/c\n",
        "    42: \"Supernova Event\", # Type 2 Supernova\n",
        "    95: \"Supernova Event\", #Superluminous Supernova\n",
        "\n",
        "    65: \"Variable Star\", #Red Dwarf Stellar Flare\n",
        "    16: \"Variable Star\", #Eclipsing Binary Stars\n",
        "    53: \"Variable Star\", #Mira Variables\n",
        "    92: \"Variable Star\", #RR Lyrae\n",
        "\n",
        "    15: \"Black Hole Event\", #Tidal Disruption Event\n",
        "    88: \"Black Hole Event\", #Active Galactic Nuclei\n",
        "    64: \"Black Hole Event\", #Kilonova\n",
        "    6:  \"Black Hole Event\", #Jk this is actually an Unknown Compact Object\n",
        "}"
      ],
      "metadata": {
        "id": "UvCouHT18EgW"
      },
      "execution_count": 57,
      "outputs": []
    },
    {
      "cell_type": "code",
      "source": [
        "#reading csv files\n",
        "lc_df = pd.read_csv(\"training_set.csv\")\n",
        "meta_df = pd.read_csv(\"training_set_metadata.csv\")\n",
        "#print(meta_df.info())\n",
        "\n",
        "#making a folder storing stitched files\n",
        "folder = \"stitched_lc\"\n",
        "os.makedirs(folder, exist_ok=True)\n",
        "\n",
        "#finding all unique object ID's\n",
        "obj_ids = lc_df[\"object_id\"].unique()\n",
        "\n",
        "#making sure each lc corresponds to one object ID, aka stitching\n",
        "for id in tqdm(obj_ids, desc=\"stitching objects...\"):\n",
        "  obj_lc = lc_df[lc_df[\"object_id\"] == id].sort_values(\"mjd\")\n",
        "  obj_lc = obj_lc[obj_lc[\"detected\"] == 1]\n",
        "  output_file = os.path.join(folder, f\"obj_{id}.csv\") #saving current object id.csv in the designated stitched lc's folder\n",
        "  obj_lc.to_csv(output_file, index=False)\n",
        "\n",
        "meta_df.to_csv(\"training_set_metadatacopy.csv\", index=False)\n",
        "print(\"Finished stitching light curves\")"
      ],
      "metadata": {
        "colab": {
          "base_uri": "https://localhost:8080/"
        },
        "id": "S84uNtJGS21Z",
        "outputId": "8a2a2fff-4834-4789-f1a7-019ef521b42b"
      },
      "execution_count": 58,
      "outputs": [
        {
          "output_type": "stream",
          "name": "stderr",
          "text": [
            "stitching objects...: 100%|██████████| 7848/7848 [00:38<00:00, 201.65it/s]\n"
          ]
        },
        {
          "output_type": "stream",
          "name": "stdout",
          "text": [
            "Finished stitching light curves\n"
          ]
        }
      ]
    },
    {
      "cell_type": "code",
      "source": [
        "metacopy_df = pd.read_csv(\"training_set_metadatacopy.csv\")\n",
        "\n",
        "#print(metacopy_df.columns)\n",
        "#print(metacopy_df.head())\n",
        "\n",
        "def getFeatures(file_path):\n",
        "  df = pd.read_csv(file_path)\n",
        "  flux = df[\"flux\"].values\n",
        "  time = df[\"mjd\"].values\n",
        "\n",
        "  features = {\n",
        "      \"mean_flux\": np.mean(flux),\n",
        "      \"std_flux\": np.std(flux),\n",
        "      \"amplitude\": np.max(flux) - np.min(flux),\n",
        "      \"median_flux\": np.median(flux),\n",
        "      \"flux_skew\": skew(flux),\n",
        "      \"flux_kurtosis\": kurtosis(flux),\n",
        "      \"flux_p25\": np.percentile(flux, 25),\n",
        "      \"flux_p75\": np.percentile(flux, 75),\n",
        "      \"flux_range_50\": np.percentile(flux, 75) - np.percentile(flux, 25),\n",
        "\n",
        "      # Time-based features\n",
        "      \"lc_duration\": time.max() - time.min(),\n",
        "      \"rise_time\": time[np.argmax(flux)] - time.min(),\n",
        "      \"decay_time\": time.max() - time[np.argmax(flux)],\n",
        "      \"slope_mean\": np.mean(np.diff(flux) / np.diff(time)),\n",
        "      \"slope_std\": np.std(np.diff(flux) / np.diff(time)),\n",
        "  }\n",
        "\n",
        "  return features\n",
        "\n",
        "feature_list = []\n",
        "for name in os.listdir(folder): #iterates through lc csv's in the stiched_lc folder\n",
        "  if name.endswith(\".csv\"):\n",
        "        obj_id = int(name.replace(\".csv\", \"\").replace(\"obj_\", \"\")) #object ID is extracted from each file name\n",
        "        feats = getFeatures(os.path.join(folder, name))\n",
        "        feats[\"object_id\"] = obj_id\n",
        "        feature_list.append(feats)\n",
        "\n",
        "features_df = pd.DataFrame(feature_list)\n",
        "data = features_df.merge(meta_df[[\"object_id\", \"target\"]], on=\"object_id\")\n",
        "data[\"largeclass\"] = data[\"target\"].map(largeclass_map)"
      ],
      "metadata": {
        "id": "LyWbiIv-Y-2q"
      },
      "execution_count": 59,
      "outputs": []
    },
    {
      "cell_type": "code",
      "source": [
        "x = data.drop(columns=[\"object_id\", \"target\", \"largeclass\"], errors=\"ignore\")\n",
        "y = data[\"largeclass\"]\n",
        "\n",
        "#SMOTE will handle the rarer supernovae/classes as minorities are underrepresented in ML models\n",
        "smote = SMOTE(random_state=42)\n",
        "X_res, y_res = smote.fit_resample(X, y)\n",
        "\n",
        "X_train, X_test, y_train, y_test = train_test_split(\n",
        "    x, y, test_size=0.2, random_state=42\n",
        ")\n",
        "\n",
        "clf = RandomForestClassifier(\n",
        "    n_estimators=300,        # number of trees\n",
        "    class_weight=\"balanced\", # handles rare classes\n",
        "    random_state=42,         # reproducibility\n",
        "    n_jobs=-1                # use all CPU cores (faster)\n",
        ")\n",
        "clf.fit(X_train, y_train)\n",
        "\n",
        "#predictions\n",
        "y_pred = clf.predict(X_test)\n",
        "\n",
        "#classification report\n",
        "print(classification_report(y_test, y_pred))\n",
        "\n",
        "#printing out a confusion matrix,\n",
        "cm = confusion_matrix(y_test, y_pred, labels=np.unique(y))\n",
        "plt.figure(figsize=(12, 8))\n",
        "sns.heatmap(cm, annot=True, fmt=\"d\", cmap=\"Blues\")\n",
        "plt.xlabel(\"Predicted\")\n",
        "plt.ylabel(\"Actual\")\n",
        "plt.show()"
      ],
      "metadata": {
        "colab": {
          "base_uri": "https://localhost:8080/",
          "height": 878
        },
        "id": "TpgAu2NPalUS",
        "outputId": "45cd6d1e-2c1b-4acf-c3b0-bcbad8b8cf53"
      },
      "execution_count": 61,
      "outputs": [
        {
          "output_type": "stream",
          "name": "stdout",
          "text": [
            "                  precision    recall  f1-score   support\n",
            "\n",
            "Black Hole Event       0.77      0.37      0.50       233\n",
            " Supernova Event       0.88      0.97      0.92       912\n",
            "   Variable Star       0.90      0.94      0.92       425\n",
            "\n",
            "        accuracy                           0.88      1570\n",
            "       macro avg       0.85      0.76      0.78      1570\n",
            "    weighted avg       0.87      0.88      0.86      1570\n",
            "\n"
          ]
        },
        {
          "output_type": "display_data",
          "data": {
            "text/plain": [
              "<Figure size 1200x800 with 2 Axes>"
            ],
            "image/png": "[encoded data removed]"
          },
          "metadata": {}
        }
      ]
    }
  ]
}