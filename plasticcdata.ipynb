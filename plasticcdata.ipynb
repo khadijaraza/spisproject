{
  "nbformat": 4,
  "nbformat_minor": 0,
  "metadata": {
    "colab": {
      "provenance": [],
      "authorship_tag": "ABX9TyNlvrAnvgBJJdE9ac2CTz7r",
      "include_colab_link": true
    },
    "kernelspec": {
      "name": "python3",
      "display_name": "Python 3"
    },
    "language_info": {
      "name": "python"
    }
  },
  "cells": [
    {
      "cell_type": "markdown",
      "metadata": {
        "id": "view-in-github",
        "colab_type": "text"
      },
      "source": [
        "<a href=\"https://colab.research.google.com/github/khadijaraza/spisproject/blob/main/plasticcdata.ipynb\" target=\"_parent\"><img src=\"https://colab.research.google.com/assets/colab-badge.svg\" alt=\"Open In Colab\"/></a>"
      ]
    },
    {
      "cell_type": "code",
      "execution_count": 2,
      "metadata": {
        "id": "xU9j2Ez3RurM"
      },
      "outputs": [],
      "source": [
        "import pandas as pd\n",
        "import numpy as np\n",
        "import os\n",
        "from tqdm import tqdm"
      ]
    },
    {
      "cell_type": "code",
      "source": [
        "#reading csv files\n",
        "lc_df = pd.read_csv(\"training_set.csv\")\n",
        "meta_df = pd.read_csv(\"training_set_metadata.csv\")\n",
        "\n",
        "\n",
        "#making a folder storing stitched files\n",
        "folder = \"stitched_lc\"\n",
        "os.makedirs(folder, exist_ok=True)\n",
        "\n",
        "#finding all unique object ID's\n",
        "obj_ids = lc_df[\"object_id\"].unique()\n",
        "\n",
        "#making sure each lc corresponds to one object ID, aka stitching\n",
        "for id in tqdm(obj_ids, desc=\"stitching objects...\"):\n",
        "  obj_lc = lc_df[lc_df[\"object_id\"] == id].sort_values(\"mjd\")\n",
        "  obj_lc = obj_lc[obj_lc[\"detected\"] == 1]\n",
        "  output_file = os.path.join(folder, f\"obj_{id}.csv\") #saving current object id.csv in the designated stitched lc's folder\n",
        "  obj_lc.to_csv(output_file, index=False)\n",
        "\n",
        "meta_df.to_csv(\"training_set_metadatacopy.csv\", index=False)\n",
        "print(\"Finished stitching light curves\")"
      ],
      "metadata": {
        "colab": {
          "base_uri": "https://localhost:8080/"
        },
        "id": "S84uNtJGS21Z",
        "outputId": "88659885-f5ef-45be-81e1-5134121712fb"
      },
      "execution_count": 5,
      "outputs": [
        {
          "output_type": "stream",
          "name": "stderr",
          "text": [
            "stitching objects...: 100%|██████████| 7848/7848 [00:38<00:00, 202.10it/s]\n"
          ]
        },
        {
          "output_type": "stream",
          "name": "stdout",
          "text": [
            "Finished stitching light curves\n"
          ]
        }
      ]
    },
    {
      "cell_type": "code",
      "source": [
        "print(lc_df.info())"
      ],
      "metadata": {
        "colab": {
          "base_uri": "https://localhost:8080/"
        },
        "id": "LyWbiIv-Y-2q",
        "outputId": "6915aa36-082a-4284-ccd5-8d07d6d64e9f"
      },
      "execution_count": 7,
      "outputs": [
        {
          "output_type": "stream",
          "name": "stdout",
          "text": [
            "<class 'pandas.core.frame.DataFrame'>\n",
            "RangeIndex: 1421705 entries, 0 to 1421704\n",
            "Data columns (total 6 columns):\n",
            " #   Column     Non-Null Count    Dtype  \n",
            "---  ------     --------------    -----  \n",
            " 0   object_id  1421705 non-null  int64  \n",
            " 1   mjd        1421705 non-null  float64\n",
            " 2   passband   1421705 non-null  int64  \n",
            " 3   flux       1421705 non-null  float64\n",
            " 4   flux_err   1421705 non-null  float64\n",
            " 5   detected   1421705 non-null  int64  \n",
            "dtypes: float64(3), int64(3)\n",
            "memory usage: 65.1 MB\n",
            "None\n"
          ]
        }
      ]
    }
  ]
}