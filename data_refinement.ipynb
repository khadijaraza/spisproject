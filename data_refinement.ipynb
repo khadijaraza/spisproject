{
  "cells": [
    {
      "cell_type": "markdown",
      "metadata": {
        "id": "view-in-github",
        "colab_type": "text"
      },
      "source": [
        "<a href=\"https://colab.research.google.com/github/khadijaraza/spisproject/blob/main/data_refinement.ipynb\" target=\"_parent\"><img src=\"https://colab.research.google.com/assets/colab-badge.svg\" alt=\"Open In Colab\"/></a>"
      ]
    },
    {
      "cell_type": "code",
      "execution_count": null,
      "metadata": {
        "colab": {
          "base_uri": "https://localhost:8080/"
        },
        "collapsed": true,
        "id": "mTsLRQJknXNW",
        "outputId": "360f446f-460d-4f02-f7bb-291526aa48de"
      },
      "outputs": [
        {
          "output_type": "stream",
          "name": "stdout",
          "text": [
            "Collecting lightkurve\n",
            "  Downloading lightkurve-2.5.1-py3-none-any.whl.metadata (6.3 kB)\n",
            "Requirement already satisfied: astropy>=5.0 in /usr/local/lib/python3.12/dist-packages (from lightkurve) (7.1.0)\n",
            "Collecting astroquery>=0.3.10 (from lightkurve)\n",
            "  Downloading astroquery-0.4.10-py3-none-any.whl.metadata (6.3 kB)\n",
            "Requirement already satisfied: beautifulsoup4>=4.6.0 in /usr/local/lib/python3.12/dist-packages (from lightkurve) (4.13.5)\n",
            "Requirement already satisfied: bokeh>=2.3.2 in /usr/local/lib/python3.12/dist-packages (from lightkurve) (3.7.3)\n",
            "Collecting fbpca>=1.0 (from lightkurve)\n",
            "  Downloading fbpca-1.0.tar.gz (11 kB)\n",
            "  Preparing metadata (setup.py) ... \u001b[?25l\u001b[?25hdone\n",
            "Requirement already satisfied: matplotlib>=3.1 in /usr/local/lib/python3.12/dist-packages (from lightkurve) (3.10.0)\n",
            "Collecting memoization>=0.3.1 (from lightkurve)\n",
            "  Downloading memoization-0.4.0.tar.gz (41 kB)\n",
            "\u001b[2K     \u001b[90m━━━━━━━━━━━━━━━━━━━━━━━━━━━━━━━━━━━━━━━━\u001b[0m \u001b[32m41.2/41.2 kB\u001b[0m \u001b[31m3.3 MB/s\u001b[0m eta \u001b[36m0:00:00\u001b[0m\n",
            "\u001b[?25h  Preparing metadata (setup.py) ... \u001b[?25l\u001b[?25hdone\n",
            "Requirement already satisfied: numpy>=1.26 in /usr/local/lib/python3.12/dist-packages (from lightkurve) (2.0.2)\n",
            "Requirement already satisfied: pandas>=1.3.6 in /usr/local/lib/python3.12/dist-packages (from lightkurve) (2.2.2)\n",
            "Requirement already satisfied: patsy>=0.5.0 in /usr/local/lib/python3.12/dist-packages (from lightkurve) (1.0.1)\n",
            "Requirement already satisfied: requests>=2.22.0 in /usr/local/lib/python3.12/dist-packages (from lightkurve) (2.32.4)\n",
            "Collecting s3fs>=2024.6.1 (from lightkurve)\n",
            "  Downloading s3fs-2025.7.0-py3-none-any.whl.metadata (1.4 kB)\n",
            "Requirement already satisfied: scikit-learn>=0.24.0 in /usr/local/lib/python3.12/dist-packages (from lightkurve) (1.6.1)\n",
            "Requirement already satisfied: scipy>=1.7 in /usr/local/lib/python3.12/dist-packages (from lightkurve) (1.16.1)\n",
            "Requirement already satisfied: tqdm>=4.25.0 in /usr/local/lib/python3.12/dist-packages (from lightkurve) (4.67.1)\n",
            "Collecting uncertainties>=3.1.4 (from lightkurve)\n",
            "  Downloading uncertainties-3.2.3-py3-none-any.whl.metadata (7.0 kB)\n",
            "Requirement already satisfied: urllib3>=1.23 in /usr/local/lib/python3.12/dist-packages (from lightkurve) (2.5.0)\n",
            "Requirement already satisfied: pyerfa>=2.0.1.1 in /usr/local/lib/python3.12/dist-packages (from astropy>=5.0->lightkurve) (2.0.1.5)\n",
            "Requirement already satisfied: astropy-iers-data>=0.2025.4.28.0.37.27 in /usr/local/lib/python3.12/dist-packages (from astropy>=5.0->lightkurve) (0.2025.8.25.0.36.58)\n",
            "Requirement already satisfied: PyYAML>=6.0.0 in /usr/local/lib/python3.12/dist-packages (from astropy>=5.0->lightkurve) (6.0.2)\n",
            "Requirement already satisfied: packaging>=22.0.0 in /usr/local/lib/python3.12/dist-packages (from astropy>=5.0->lightkurve) (25.0)\n",
            "Requirement already satisfied: html5lib>=0.999 in /usr/local/lib/python3.12/dist-packages (from astroquery>=0.3.10->lightkurve) (1.1)\n",
            "Requirement already satisfied: keyring>=15.0 in /usr/local/lib/python3.12/dist-packages (from astroquery>=0.3.10->lightkurve) (25.6.0)\n",
            "Collecting pyvo>=1.5 (from astroquery>=0.3.10->lightkurve)\n",
            "  Downloading pyvo-1.7-py3-none-any.whl.metadata (4.7 kB)\n",
            "Requirement already satisfied: soupsieve>1.2 in /usr/local/lib/python3.12/dist-packages (from beautifulsoup4>=4.6.0->lightkurve) (2.7)\n",
            "Requirement already satisfied: typing-extensions>=4.0.0 in /usr/local/lib/python3.12/dist-packages (from beautifulsoup4>=4.6.0->lightkurve) (4.15.0)\n",
            "Requirement already satisfied: Jinja2>=2.9 in /usr/local/lib/python3.12/dist-packages (from bokeh>=2.3.2->lightkurve) (3.1.6)\n",
            "Requirement already satisfied: contourpy>=1.2 in /usr/local/lib/python3.12/dist-packages (from bokeh>=2.3.2->lightkurve) (1.3.3)\n",
            "Requirement already satisfied: narwhals>=1.13 in /usr/local/lib/python3.12/dist-packages (from bokeh>=2.3.2->lightkurve) (2.2.0)\n",
            "Requirement already satisfied: pillow>=7.1.0 in /usr/local/lib/python3.12/dist-packages (from bokeh>=2.3.2->lightkurve) (11.3.0)\n",
            "Requirement already satisfied: tornado>=6.2 in /usr/local/lib/python3.12/dist-packages (from bokeh>=2.3.2->lightkurve) (6.4.2)\n",
            "Requirement already satisfied: xyzservices>=2021.09.1 in /usr/local/lib/python3.12/dist-packages (from bokeh>=2.3.2->lightkurve) (2025.4.0)\n",
            "Requirement already satisfied: cycler>=0.10 in /usr/local/lib/python3.12/dist-packages (from matplotlib>=3.1->lightkurve) (0.12.1)\n",
            "Requirement already satisfied: fonttools>=4.22.0 in /usr/local/lib/python3.12/dist-packages (from matplotlib>=3.1->lightkurve) (4.59.1)\n",
            "Requirement already satisfied: kiwisolver>=1.3.1 in /usr/local/lib/python3.12/dist-packages (from matplotlib>=3.1->lightkurve) (1.4.9)\n",
            "Requirement already satisfied: pyparsing>=2.3.1 in /usr/local/lib/python3.12/dist-packages (from matplotlib>=3.1->lightkurve) (3.2.3)\n",
            "Requirement already satisfied: python-dateutil>=2.7 in /usr/local/lib/python3.12/dist-packages (from matplotlib>=3.1->lightkurve) (2.9.0.post0)\n",
            "Requirement already satisfied: pytz>=2020.1 in /usr/local/lib/python3.12/dist-packages (from pandas>=1.3.6->lightkurve) (2025.2)\n",
            "Requirement already satisfied: tzdata>=2022.7 in /usr/local/lib/python3.12/dist-packages (from pandas>=1.3.6->lightkurve) (2025.2)\n",
            "Requirement already satisfied: charset_normalizer<4,>=2 in /usr/local/lib/python3.12/dist-packages (from requests>=2.22.0->lightkurve) (3.4.3)\n",
            "Requirement already satisfied: idna<4,>=2.5 in /usr/local/lib/python3.12/dist-packages (from requests>=2.22.0->lightkurve) (3.10)\n",
            "Requirement already satisfied: certifi>=2017.4.17 in /usr/local/lib/python3.12/dist-packages (from requests>=2.22.0->lightkurve) (2025.8.3)\n",
            "Collecting aiobotocore<3.0.0,>=2.5.4 (from s3fs>=2024.6.1->lightkurve)\n",
            "  Downloading aiobotocore-2.24.1-py3-none-any.whl.metadata (25 kB)\n",
            "Collecting fsspec==2025.7.0 (from s3fs>=2024.6.1->lightkurve)\n",
            "  Downloading fsspec-2025.7.0-py3-none-any.whl.metadata (12 kB)\n",
            "Requirement already satisfied: aiohttp!=4.0.0a0,!=4.0.0a1 in /usr/local/lib/python3.12/dist-packages (from s3fs>=2024.6.1->lightkurve) (3.12.15)\n",
            "Requirement already satisfied: joblib>=1.2.0 in /usr/local/lib/python3.12/dist-packages (from scikit-learn>=0.24.0->lightkurve) (1.5.1)\n",
            "Requirement already satisfied: threadpoolctl>=3.1.0 in /usr/local/lib/python3.12/dist-packages (from scikit-learn>=0.24.0->lightkurve) (3.6.0)\n",
            "Collecting aioitertools<1.0.0,>=0.5.1 (from aiobotocore<3.0.0,>=2.5.4->s3fs>=2024.6.1->lightkurve)\n",
            "  Downloading aioitertools-0.12.0-py3-none-any.whl.metadata (3.8 kB)\n",
            "Collecting botocore<1.39.12,>=1.39.9 (from aiobotocore<3.0.0,>=2.5.4->s3fs>=2024.6.1->lightkurve)\n",
            "  Downloading botocore-1.39.11-py3-none-any.whl.metadata (5.7 kB)\n",
            "Collecting jmespath<2.0.0,>=0.7.1 (from aiobotocore<3.0.0,>=2.5.4->s3fs>=2024.6.1->lightkurve)\n",
            "  Downloading jmespath-1.0.1-py3-none-any.whl.metadata (7.6 kB)\n",
            "Requirement already satisfied: multidict<7.0.0,>=6.0.0 in /usr/local/lib/python3.12/dist-packages (from aiobotocore<3.0.0,>=2.5.4->s3fs>=2024.6.1->lightkurve) (6.6.4)\n",
            "Requirement already satisfied: wrapt<2.0.0,>=1.10.10 in /usr/local/lib/python3.12/dist-packages (from aiobotocore<3.0.0,>=2.5.4->s3fs>=2024.6.1->lightkurve) (1.17.3)\n",
            "Requirement already satisfied: aiohappyeyeballs>=2.5.0 in /usr/local/lib/python3.12/dist-packages (from aiohttp!=4.0.0a0,!=4.0.0a1->s3fs>=2024.6.1->lightkurve) (2.6.1)\n",
            "Requirement already satisfied: aiosignal>=1.4.0 in /usr/local/lib/python3.12/dist-packages (from aiohttp!=4.0.0a0,!=4.0.0a1->s3fs>=2024.6.1->lightkurve) (1.4.0)\n",
            "Requirement already satisfied: attrs>=17.3.0 in /usr/local/lib/python3.12/dist-packages (from aiohttp!=4.0.0a0,!=4.0.0a1->s3fs>=2024.6.1->lightkurve) (25.3.0)\n",
            "Requirement already satisfied: frozenlist>=1.1.1 in /usr/local/lib/python3.12/dist-packages (from aiohttp!=4.0.0a0,!=4.0.0a1->s3fs>=2024.6.1->lightkurve) (1.7.0)\n",
            "Requirement already satisfied: propcache>=0.2.0 in /usr/local/lib/python3.12/dist-packages (from aiohttp!=4.0.0a0,!=4.0.0a1->s3fs>=2024.6.1->lightkurve) (0.3.2)\n",
            "Requirement already satisfied: yarl<2.0,>=1.17.0 in /usr/local/lib/python3.12/dist-packages (from aiohttp!=4.0.0a0,!=4.0.0a1->s3fs>=2024.6.1->lightkurve) (1.20.1)\n",
            "Requirement already satisfied: six>=1.9 in /usr/local/lib/python3.12/dist-packages (from html5lib>=0.999->astroquery>=0.3.10->lightkurve) (1.17.0)\n",
            "Requirement already satisfied: webencodings in /usr/local/lib/python3.12/dist-packages (from html5lib>=0.999->astroquery>=0.3.10->lightkurve) (0.5.1)\n",
            "Requirement already satisfied: MarkupSafe>=2.0 in /usr/local/lib/python3.12/dist-packages (from Jinja2>=2.9->bokeh>=2.3.2->lightkurve) (3.0.2)\n",
            "Requirement already satisfied: SecretStorage>=3.2 in /usr/local/lib/python3.12/dist-packages (from keyring>=15.0->astroquery>=0.3.10->lightkurve) (3.3.3)\n",
            "Requirement already satisfied: jeepney>=0.4.2 in /usr/local/lib/python3.12/dist-packages (from keyring>=15.0->astroquery>=0.3.10->lightkurve) (0.9.0)\n",
            "Requirement already satisfied: jaraco.classes in /usr/local/lib/python3.12/dist-packages (from keyring>=15.0->astroquery>=0.3.10->lightkurve) (3.4.0)\n",
            "Requirement already satisfied: jaraco.functools in /usr/local/lib/python3.12/dist-packages (from keyring>=15.0->astroquery>=0.3.10->lightkurve) (4.3.0)\n",
            "Requirement already satisfied: jaraco.context in /usr/local/lib/python3.12/dist-packages (from keyring>=15.0->astroquery>=0.3.10->lightkurve) (6.0.1)\n",
            "Requirement already satisfied: cryptography>=2.0 in /usr/local/lib/python3.12/dist-packages (from SecretStorage>=3.2->keyring>=15.0->astroquery>=0.3.10->lightkurve) (43.0.3)\n",
            "Requirement already satisfied: more-itertools in /usr/local/lib/python3.12/dist-packages (from jaraco.classes->keyring>=15.0->astroquery>=0.3.10->lightkurve) (10.7.0)\n",
            "Requirement already satisfied: cffi>=1.12 in /usr/local/lib/python3.12/dist-packages (from cryptography>=2.0->SecretStorage>=3.2->keyring>=15.0->astroquery>=0.3.10->lightkurve) (1.17.1)\n",
            "Requirement already satisfied: pycparser in /usr/local/lib/python3.12/dist-packages (from cffi>=1.12->cryptography>=2.0->SecretStorage>=3.2->keyring>=15.0->astroquery>=0.3.10->lightkurve) (2.22)\n",
            "Downloading lightkurve-2.5.1-py3-none-any.whl (256 kB)\n",
            "\u001b[2K   \u001b[90m━━━━━━━━━━━━━━━━━━━━━━━━━━━━━━━━━━━━━━━━\u001b[0m \u001b[32m256.9/256.9 kB\u001b[0m \u001b[31m22.4 MB/s\u001b[0m eta \u001b[36m0:00:00\u001b[0m\n",
            "\u001b[?25hDownloading astroquery-0.4.10-py3-none-any.whl (11.1 MB)\n",
            "\u001b[2K   \u001b[90m━━━━━━━━━━━━━━━━━━━━━━━━━━━━━━━━━━━━━━━━\u001b[0m \u001b[32m11.1/11.1 MB\u001b[0m \u001b[31m117.7 MB/s\u001b[0m eta \u001b[36m0:00:00\u001b[0m\n",
            "\u001b[?25hDownloading s3fs-2025.7.0-py3-none-any.whl (30 kB)\n",
            "Downloading fsspec-2025.7.0-py3-none-any.whl (199 kB)\n",
            "\u001b[2K   \u001b[90m━━━━━━━━━━━━━━━━━━━━━━━━━━━━━━━━━━━━━━━━\u001b[0m \u001b[32m199.6/199.6 kB\u001b[0m \u001b[31m20.3 MB/s\u001b[0m eta \u001b[36m0:00:00\u001b[0m\n",
            "\u001b[?25hDownloading uncertainties-3.2.3-py3-none-any.whl (60 kB)\n",
            "\u001b[2K   \u001b[90m━━━━━━━━━━━━━━━━━━━━━━━━━━━━━━━━━━━━━━━━\u001b[0m \u001b[32m60.1/60.1 kB\u001b[0m \u001b[31m5.7 MB/s\u001b[0m eta \u001b[36m0:00:00\u001b[0m\n",
            "\u001b[?25hDownloading aiobotocore-2.24.1-py3-none-any.whl (85 kB)\n",
            "\u001b[2K   \u001b[90m━━━━━━━━━━━━━━━━━━━━━━━━━━━━━━━━━━━━━━━━\u001b[0m \u001b[32m85.2/85.2 kB\u001b[0m \u001b[31m8.0 MB/s\u001b[0m eta \u001b[36m0:00:00\u001b[0m\n",
            "\u001b[?25hDownloading pyvo-1.7-py3-none-any.whl (1.1 MB)\n",
            "\u001b[2K   \u001b[90m━━━━━━━━━━━━━━━━━━━━━━━━━━━━━━━━━━━━━━━━\u001b[0m \u001b[32m1.1/1.1 MB\u001b[0m \u001b[31m64.6 MB/s\u001b[0m eta \u001b[36m0:00:00\u001b[0m\n",
            "\u001b[?25hDownloading aioitertools-0.12.0-py3-none-any.whl (24 kB)\n",
            "Downloading botocore-1.39.11-py3-none-any.whl (13.9 MB)\n",
            "\u001b[2K   \u001b[90m━━━━━━━━━━━━━━━━━━━━━━━━━━━━━━━━━━━━━━━━\u001b[0m \u001b[32m13.9/13.9 MB\u001b[0m \u001b[31m110.3 MB/s\u001b[0m eta \u001b[36m0:00:00\u001b[0m\n",
            "\u001b[?25hDownloading jmespath-1.0.1-py3-none-any.whl (20 kB)\n",
            "Building wheels for collected packages: fbpca, memoization\n",
            "  Building wheel for fbpca (setup.py) ... \u001b[?25l\u001b[?25hdone\n",
            "  Created wheel for fbpca: filename=fbpca-1.0-py3-none-any.whl size=11373 sha256=12dc691447f2b9b78cbacf2ca0dad264e83fd628515db3c2c3815981b83ab912\n",
            "  Stored in directory: /root/.cache/pip/wheels/04/15/cd/2f622795b09e83471a3be5d2581cd9cf96a6ec7aa78e8deffe\n",
            "  Building wheel for memoization (setup.py) ... \u001b[?25l\u001b[?25hdone\n",
            "  Created wheel for memoization: filename=memoization-0.4.0-py3-none-any.whl size=50452 sha256=931d863892aa1c18c6f6c37f6778d055adc6f28d1b7f53b9e38717fbaf4f4997\n",
            "  Stored in directory: /root/.cache/pip/wheels/26/35/02/90618fc7cbf03a335f3cacd59d32b35930bf5a57f3c0d0814c\n",
            "Successfully built fbpca memoization\n",
            "Installing collected packages: fbpca, uncertainties, memoization, jmespath, fsspec, aioitertools, botocore, pyvo, aiobotocore, s3fs, astroquery, lightkurve\n",
            "  Attempting uninstall: fsspec\n",
            "    Found existing installation: fsspec 2025.3.0\n",
            "    Uninstalling fsspec-2025.3.0:\n",
            "      Successfully uninstalled fsspec-2025.3.0\n",
            "\u001b[31mERROR: pip's dependency resolver does not currently take into account all the packages that are installed. This behaviour is the source of the following dependency conflicts.\n",
            "datasets 4.0.0 requires fsspec[http]<=2025.3.0,>=2023.1.0, but you have fsspec 2025.7.0 which is incompatible.\n",
            "gcsfs 2025.3.0 requires fsspec==2025.3.0, but you have fsspec 2025.7.0 which is incompatible.\u001b[0m\u001b[31m\n",
            "\u001b[0mSuccessfully installed aiobotocore-2.24.1 aioitertools-0.12.0 astroquery-0.4.10 botocore-1.39.11 fbpca-1.0 fsspec-2025.7.0 jmespath-1.0.1 lightkurve-2.5.1 memoization-0.4.0 pyvo-1.7 s3fs-2025.7.0 uncertainties-3.2.3\n"
          ]
        }
      ],
      "source": [
        "!pip install lightkurve"
      ]
    },
    {
      "cell_type": "code",
      "execution_count": null,
      "metadata": {
        "colab": {
          "base_uri": "https://localhost:8080/"
        },
        "collapsed": true,
        "id": "Orv6k_5Am2yd",
        "outputId": "b5466abb-35a1-44a8-d728-b5eeb33ab569"
      },
      "outputs": [
        {
          "output_type": "stream",
          "name": "stdout",
          "text": [
            "Requirement already satisfied: astroquery in /usr/local/lib/python3.12/dist-packages (0.4.10)\n",
            "Requirement already satisfied: numpy>=1.20 in /usr/local/lib/python3.12/dist-packages (from astroquery) (2.0.2)\n",
            "Requirement already satisfied: astropy>=5.0 in /usr/local/lib/python3.12/dist-packages (from astroquery) (7.1.0)\n",
            "Requirement already satisfied: requests>=2.19 in /usr/local/lib/python3.12/dist-packages (from astroquery) (2.32.4)\n",
            "Requirement already satisfied: beautifulsoup4>=4.8 in /usr/local/lib/python3.12/dist-packages (from astroquery) (4.13.5)\n",
            "Requirement already satisfied: html5lib>=0.999 in /usr/local/lib/python3.12/dist-packages (from astroquery) (1.1)\n",
            "Requirement already satisfied: keyring>=15.0 in /usr/local/lib/python3.12/dist-packages (from astroquery) (25.6.0)\n",
            "Requirement already satisfied: pyvo>=1.5 in /usr/local/lib/python3.12/dist-packages (from astroquery) (1.7)\n",
            "Requirement already satisfied: pyerfa>=2.0.1.1 in /usr/local/lib/python3.12/dist-packages (from astropy>=5.0->astroquery) (2.0.1.5)\n",
            "Requirement already satisfied: astropy-iers-data>=0.2025.4.28.0.37.27 in /usr/local/lib/python3.12/dist-packages (from astropy>=5.0->astroquery) (0.2025.8.25.0.36.58)\n",
            "Requirement already satisfied: PyYAML>=6.0.0 in /usr/local/lib/python3.12/dist-packages (from astropy>=5.0->astroquery) (6.0.2)\n",
            "Requirement already satisfied: packaging>=22.0.0 in /usr/local/lib/python3.12/dist-packages (from astropy>=5.0->astroquery) (25.0)\n",
            "Requirement already satisfied: soupsieve>1.2 in /usr/local/lib/python3.12/dist-packages (from beautifulsoup4>=4.8->astroquery) (2.7)\n",
            "Requirement already satisfied: typing-extensions>=4.0.0 in /usr/local/lib/python3.12/dist-packages (from beautifulsoup4>=4.8->astroquery) (4.15.0)\n",
            "Requirement already satisfied: six>=1.9 in /usr/local/lib/python3.12/dist-packages (from html5lib>=0.999->astroquery) (1.17.0)\n",
            "Requirement already satisfied: webencodings in /usr/local/lib/python3.12/dist-packages (from html5lib>=0.999->astroquery) (0.5.1)\n",
            "Requirement already satisfied: SecretStorage>=3.2 in /usr/local/lib/python3.12/dist-packages (from keyring>=15.0->astroquery) (3.3.3)\n",
            "Requirement already satisfied: jeepney>=0.4.2 in /usr/local/lib/python3.12/dist-packages (from keyring>=15.0->astroquery) (0.9.0)\n",
            "Requirement already satisfied: jaraco.classes in /usr/local/lib/python3.12/dist-packages (from keyring>=15.0->astroquery) (3.4.0)\n",
            "Requirement already satisfied: jaraco.functools in /usr/local/lib/python3.12/dist-packages (from keyring>=15.0->astroquery) (4.3.0)\n",
            "Requirement already satisfied: jaraco.context in /usr/local/lib/python3.12/dist-packages (from keyring>=15.0->astroquery) (6.0.1)\n",
            "Requirement already satisfied: charset_normalizer<4,>=2 in /usr/local/lib/python3.12/dist-packages (from requests>=2.19->astroquery) (3.4.3)\n",
            "Requirement already satisfied: idna<4,>=2.5 in /usr/local/lib/python3.12/dist-packages (from requests>=2.19->astroquery) (3.10)\n",
            "Requirement already satisfied: urllib3<3,>=1.21.1 in /usr/local/lib/python3.12/dist-packages (from requests>=2.19->astroquery) (2.5.0)\n",
            "Requirement already satisfied: certifi>=2017.4.17 in /usr/local/lib/python3.12/dist-packages (from requests>=2.19->astroquery) (2025.8.3)\n",
            "Requirement already satisfied: cryptography>=2.0 in /usr/local/lib/python3.12/dist-packages (from SecretStorage>=3.2->keyring>=15.0->astroquery) (43.0.3)\n",
            "Requirement already satisfied: more-itertools in /usr/local/lib/python3.12/dist-packages (from jaraco.classes->keyring>=15.0->astroquery) (10.7.0)\n",
            "Requirement already satisfied: cffi>=1.12 in /usr/local/lib/python3.12/dist-packages (from cryptography>=2.0->SecretStorage>=3.2->keyring>=15.0->astroquery) (1.17.1)\n",
            "Requirement already satisfied: pycparser in /usr/local/lib/python3.12/dist-packages (from cffi>=1.12->cryptography>=2.0->SecretStorage>=3.2->keyring>=15.0->astroquery) (2.22)\n"
          ]
        }
      ],
      "source": [
        "!pip install astroquery"
      ]
    },
    {
      "cell_type": "code",
      "execution_count": null,
      "metadata": {
        "id": "UrA9AUBCne1q",
        "colab": {
          "base_uri": "https://localhost:8080/"
        },
        "outputId": "f6682229-1663-4b5f-aea5-927197244e92"
      },
      "outputs": [
        {
          "output_type": "stream",
          "name": "stderr",
          "text": [
            "/usr/local/lib/python3.12/dist-packages/lightkurve/prf/__init__.py:7: UserWarning: Warning: the tpfmodel submodule is not available without oktopus installed, which requires a current version of autograd. See #1452 for details.\n",
            "  warnings.warn(\n"
          ]
        }
      ],
      "source": [
        "import lightkurve as lk\n",
        "import numpy as np\n",
        "import matplotlib.pyplot as plt\n",
        "from astropy.coordinates import SkyCoord\n",
        "import astropy.units as u\n",
        "from astroquery.ipac.nexsci.nasa_exoplanet_archive import NasaExoplanetArchive\n",
        "from astroquery.mast import Catalogs\n",
        "#from astroquery.mast import DiscoveryPortal # Added DiscoveryPortal import\n",
        "import pandas as pd\n",
        "from tqdm import tqdm # For a helpful progress bar\n",
        "from collections import defaultdict, Counter\n",
        "import pickle\n",
        "import warnings"
      ]
    },
    {
      "cell_type": "code",
      "execution_count": 4,
      "metadata": {
        "colab": {
          "base_uri": "https://localhost:8080/"
        },
        "id": "ScyjumFzrQ41",
        "outputId": "2b6bcbf1-2495-4d28-edd8-8583f6fb8c38"
      },
      "outputs": [
        {
          "metadata": {
            "tags": null
          },
          "name": "stdout",
          "output_type": "stream",
          "text": [
            "Downloading confirmed planet data from NASA Exoplanet Archive...\n",
            "Found 4223 unique TIC IDs with confirmed planets.\n",
            "\n",
            "Downloading false positive data from NASA Exoplanet Archive (TOI Table)...\n",
            "Found 1186 unique TIC IDs classified as False Positives (stars).\n",
            "\n",
            "--- Downloading Planet Light Curves (One by One) ---\n",
            "Downloading all TESS light curves for 500 hosts...\n"
          ]
        },
        {
          "metadata": {
            "tags": null
          },
          "name": "stderr",
          "output_type": "stream",
          "text": [
            "  3%|▎         | 16/500 [00:37<43:40,  5.41s/it]Warning: 32% (408/1288) of the cadences will be ignored due to the quality mask (quality_bitmask=17087).\n",
            "WARNING:lightkurve.utils:Warning: 32% (408/1288) of the cadences will be ignored due to the quality mask (quality_bitmask=17087).\n",
            "  4%|▍         | 22/500 [00:54<19:57,  2.50s/it]Warning: 32% (408/1288) of the cadences will be ignored due to the quality mask (quality_bitmask=17087).\n",
            "WARNING:lightkurve.utils:Warning: 32% (408/1288) of the cadences will be ignored due to the quality mask (quality_bitmask=17087).\n",
            " 11%|█         | 53/500 [04:22<27:49,  3.73s/it]Warning: 32% (415/1288) of the cadences will be ignored due to the quality mask (quality_bitmask=17087).\n",
            "WARNING:lightkurve.utils:Warning: 32% (415/1288) of the cadences will be ignored due to the quality mask (quality_bitmask=17087).\n",
            " 13%|█▎        | 66/500 [07:05<1:02:44,  8.67s/it]Could not resolve TIC  to a sky position.\n",
            "ERROR:lightkurve.search:Could not resolve TIC  to a sky position.\n",
            " 14%|█▎        | 68/500 [07:07<34:53,  4.85s/it]No data found for target \"TIC 459558974\".\n",
            "ERROR:lightkurve.search:No data found for target \"TIC 459558974\".\n",
            " 16%|█▋        | 82/500 [07:56<34:47,  4.99s/it]Warning: 32% (410/1288) of the cadences will be ignored due to the quality mask (quality_bitmask=17087).\n",
            "WARNING:lightkurve.utils:Warning: 32% (410/1288) of the cadences will be ignored due to the quality mask (quality_bitmask=17087).\n",
            " 17%|█▋        | 86/500 [08:10<21:25,  3.11s/it]No data found for target \"TIC 281520119\".\n",
            "ERROR:lightkurve.search:No data found for target \"TIC 281520119\".\n",
            " 18%|█▊        | 92/500 [08:52<46:46,  6.88s/it]No data found for target \"TIC 467929202\".\n",
            "ERROR:lightkurve.search:No data found for target \"TIC 467929202\".\n",
            " 19%|█▉        | 95/500 [09:05<39:34,  5.86s/it]Warning: 30% (1008/3399) of the cadences will be ignored due to the quality mask (quality_bitmask=17087).\n",
            "WARNING:lightkurve.utils:Warning: 30% (1008/3399) of the cadences will be ignored due to the quality mask (quality_bitmask=17087).\n",
            " 22%|██▏       | 110/500 [10:35<31:16,  4.81s/it]Warning: 32% (408/1288) of the cadences will be ignored due to the quality mask (quality_bitmask=17087).\n",
            "WARNING:lightkurve.utils:Warning: 32% (408/1288) of the cadences will be ignored due to the quality mask (quality_bitmask=17087).\n",
            " 24%|██▍       | 122/500 [11:13<10:43,  1.70s/it]Warning: 32% (410/1288) of the cadences will be ignored due to the quality mask (quality_bitmask=17087).\n",
            "WARNING:lightkurve.utils:Warning: 32% (410/1288) of the cadences will be ignored due to the quality mask (quality_bitmask=17087).\n",
            " 25%|██▍       | 123/500 [11:15<10:35,  1.69s/it]No data found for target \"TIC 323319664\".\n",
            "ERROR:lightkurve.search:No data found for target \"TIC 323319664\".\n",
            " 26%|██▌       | 128/500 [11:33<14:46,  2.38s/it]Warning: 32% (408/1288) of the cadences will be ignored due to the quality mask (quality_bitmask=17087).\n",
            "WARNING:lightkurve.utils:Warning: 32% (408/1288) of the cadences will be ignored due to the quality mask (quality_bitmask=17087).\n",
            " 28%|██▊       | 141/500 [12:35<20:00,  3.34s/it]Warning: 32% (408/1288) of the cadences will be ignored due to the quality mask (quality_bitmask=17087).\n",
            "WARNING:lightkurve.utils:Warning: 32% (408/1288) of the cadences will be ignored due to the quality mask (quality_bitmask=17087).\n",
            " 30%|███       | 151/500 [13:00<13:39,  2.35s/it]No data found for target \"TIC 1685332572\".\n",
            "ERROR:lightkurve.search:No data found for target \"TIC 1685332572\".\n",
            " 33%|███▎      | 163/500 [13:36<18:44,  3.34s/it]Warning: 32% (409/1288) of the cadences will be ignored due to the quality mask (quality_bitmask=17087).\n",
            "WARNING:lightkurve.utils:Warning: 32% (409/1288) of the cadences will be ignored due to the quality mask (quality_bitmask=17087).\n",
            " 34%|███▍      | 170/500 [15:00<26:26,  4.81s/it]Warning: 27% (928/3399) of the cadences will be ignored due to the quality mask (quality_bitmask=17087).\n",
            "WARNING:lightkurve.utils:Warning: 27% (928/3399) of the cadences will be ignored due to the quality mask (quality_bitmask=17087).\n",
            " 35%|███▍      | 173/500 [15:08<21:32,  3.95s/it]No data found for target \"TIC 270858032\".\n",
            "ERROR:lightkurve.search:No data found for target \"TIC 270858032\".\n",
            " 38%|███▊      | 189/500 [16:35<17:30,  3.38s/it]Warning: 23% (816/3605) of the cadences will be ignored due to the quality mask (quality_bitmask=17087).\n",
            "WARNING:lightkurve.utils:Warning: 23% (816/3605) of the cadences will be ignored due to the quality mask (quality_bitmask=17087).\n",
            " 39%|███▉      | 194/500 [16:54<25:19,  4.96s/it]No data found for target \"TIC 270619473\".\n",
            "ERROR:lightkurve.search:No data found for target \"TIC 270619473\".\n",
            " 40%|████      | 200/500 [18:39<2:17:26, 27.49s/it]No data found for target \"TIC 392045047\".\n",
            "ERROR:lightkurve.search:No data found for target \"TIC 392045047\".\n",
            " 40%|████      | 201/500 [18:54<1:58:19, 23.74s/it]No data found for target \"TIC 276754403\".\n",
            "ERROR:lightkurve.search:No data found for target \"TIC 276754403\".\n",
            " 42%|████▏     | 211/500 [19:29<21:45,  4.52s/it]Warning: 32% (408/1288) of the cadences will be ignored due to the quality mask (quality_bitmask=17087).\n",
            "WARNING:lightkurve.utils:Warning: 32% (408/1288) of the cadences will be ignored due to the quality mask (quality_bitmask=17087).\n",
            " 55%|█████▌    | 277/500 [22:28<29:45,  8.01s/it]Warning: 32% (408/1288) of the cadences will be ignored due to the quality mask (quality_bitmask=17087).\n",
            "WARNING:lightkurve.utils:Warning: 32% (408/1288) of the cadences will be ignored due to the quality mask (quality_bitmask=17087).\n",
            " 62%|██████▏   | 308/500 [24:46<44:11, 13.81s/it]No data found for target \"TIC 271165895\".\n",
            "ERROR:lightkurve.search:No data found for target \"TIC 271165895\".\n",
            " 67%|██████▋   | 335/500 [26:12<15:23,  5.60s/it]Warning: 32% (409/1288) of the cadences will be ignored due to the quality mask (quality_bitmask=17087).\n",
            "WARNING:lightkurve.utils:Warning: 32% (409/1288) of the cadences will be ignored due to the quality mask (quality_bitmask=17087).\n",
            " 71%|███████   | 355/500 [27:45<05:18,  2.20s/it]Warning: 36% (465/1288) of the cadences will be ignored due to the quality mask (quality_bitmask=17087).\n",
            "WARNING:lightkurve.utils:Warning: 36% (465/1288) of the cadences will be ignored due to the quality mask (quality_bitmask=17087).\n",
            " 73%|███████▎  | 363/500 [28:06<06:35,  2.89s/it]Warning: 32% (408/1288) of the cadences will be ignored due to the quality mask (quality_bitmask=17087).\n",
            "WARNING:lightkurve.utils:Warning: 32% (408/1288) of the cadences will be ignored due to the quality mask (quality_bitmask=17087).\n",
            " 78%|███████▊  | 389/500 [29:41<16:26,  8.89s/it]Warning: 32% (411/1288) of the cadences will be ignored due to the quality mask (quality_bitmask=17087).\n",
            "WARNING:lightkurve.utils:Warning: 32% (411/1288) of the cadences will be ignored due to the quality mask (quality_bitmask=17087).\n",
            " 89%|████████▊ | 443/500 [34:38<04:39,  4.90s/it]Warning: 29% (988/3399) of the cadences will be ignored due to the quality mask (quality_bitmask=17087).\n",
            "WARNING:lightkurve.utils:Warning: 29% (988/3399) of the cadences will be ignored due to the quality mask (quality_bitmask=17087).\n",
            " 89%|████████▉ | 447/500 [34:47<02:40,  3.03s/it]Warning: 32% (408/1288) of the cadences will be ignored due to the quality mask (quality_bitmask=17087).\n",
            "WARNING:lightkurve.utils:Warning: 32% (408/1288) of the cadences will be ignored due to the quality mask (quality_bitmask=17087).\n",
            " 95%|█████████▍| 474/500 [37:39<00:47,  1.82s/it]Warning: 32% (408/1288) of the cadences will be ignored due to the quality mask (quality_bitmask=17087).\n",
            "WARNING:lightkurve.utils:Warning: 32% (408/1288) of the cadences will be ignored due to the quality mask (quality_bitmask=17087).\n",
            "100%|██████████| 500/500 [39:55<00:00,  4.79s/it]\n"
          ]
        },
        {
          "metadata": {
            "tags": null
          },
          "name": "stdout",
          "output_type": "stream",
          "text": [
            "Successfully created a list of 408 collections for planets.\n",
            "\n",
            "--- Downloading False Positive Light Curves (One by One) ---\n",
            "Downloading all TESS light curves for 500 false positives...\n"
          ]
        },
        {
          "output_type": "stream",
          "name": "stderr",
          "text": [
            " 20%|█▉        | 99/500 [09:42<46:41,  6.99s/it]  Warning: 32% (408/1288) of the cadences will be ignored due to the quality mask (quality_bitmask=17087).\n",
            "WARNING:lightkurve.utils:Warning: 32% (408/1288) of the cadences will be ignored due to the quality mask (quality_bitmask=17087).\n",
            " 20%|██        | 102/500 [10:07<47:28,  7.16s/it]  Warning: 32% (408/1288) of the cadences will be ignored due to the quality mask (quality_bitmask=17087).\n",
            "WARNING:lightkurve.utils:Warning: 32% (408/1288) of the cadences will be ignored due to the quality mask (quality_bitmask=17087).\n",
            " 41%|████      | 205/500 [19:02<14:12,  2.89s/it]Warning: 32% (408/1288) of the cadences will be ignored due to the quality mask (quality_bitmask=17087).\n",
            "WARNING:lightkurve.utils:Warning: 32% (408/1288) of the cadences will be ignored due to the quality mask (quality_bitmask=17087).\n",
            " 44%|████▎     | 218/500 [19:38<11:58,  2.55s/it]Warning: 32% (408/1288) of the cadences will be ignored due to the quality mask (quality_bitmask=17087).\n",
            "WARNING:lightkurve.utils:Warning: 32% (408/1288) of the cadences will be ignored due to the quality mask (quality_bitmask=17087).\n",
            " 46%|████▌     | 230/500 [20:43<17:34,  3.91s/it]Warning: 32% (409/1288) of the cadences will be ignored due to the quality mask (quality_bitmask=17087).\n",
            "WARNING:lightkurve.utils:Warning: 32% (409/1288) of the cadences will be ignored due to the quality mask (quality_bitmask=17087).\n",
            " 57%|█████▋    | 287/500 [23:02<15:18,  4.31s/it]Warning: 32% (408/1288) of the cadences will be ignored due to the quality mask (quality_bitmask=17087).\n",
            "WARNING:lightkurve.utils:Warning: 32% (408/1288) of the cadences will be ignored due to the quality mask (quality_bitmask=17087).\n",
            " 68%|██████▊   | 341/500 [27:01<07:38,  2.88s/it]Warning: 32% (410/1288) of the cadences will be ignored due to the quality mask (quality_bitmask=17087).\n",
            "WARNING:lightkurve.utils:Warning: 32% (410/1288) of the cadences will be ignored due to the quality mask (quality_bitmask=17087).\n",
            " 69%|██████▉   | 347/500 [27:33<10:19,  4.05s/it]Warning: 32% (408/1288) of the cadences will be ignored due to the quality mask (quality_bitmask=17087).\n",
            "WARNING:lightkurve.utils:Warning: 32% (408/1288) of the cadences will be ignored due to the quality mask (quality_bitmask=17087).\n",
            " 71%|███████   | 355/500 [28:15<09:50,  4.07s/it]Warning: 32% (408/1288) of the cadences will be ignored due to the quality mask (quality_bitmask=17087).\n",
            "WARNING:lightkurve.utils:Warning: 32% (408/1288) of the cadences will be ignored due to the quality mask (quality_bitmask=17087).\n",
            " 74%|███████▍  | 370/500 [28:56<02:58,  1.38s/it]Warning: 29% (979/3399) of the cadences will be ignored due to the quality mask (quality_bitmask=17087).\n",
            "WARNING:lightkurve.utils:Warning: 29% (979/3399) of the cadences will be ignored due to the quality mask (quality_bitmask=17087).\n",
            " 75%|███████▌  | 375/500 [29:16<05:41,  2.73s/it]Warning: 32% (408/1288) of the cadences will be ignored due to the quality mask (quality_bitmask=17087).\n",
            "WARNING:lightkurve.utils:Warning: 32% (408/1288) of the cadences will be ignored due to the quality mask (quality_bitmask=17087).\n",
            " 76%|███████▋  | 382/500 [30:04<11:28,  5.83s/it]Warning: 32% (408/1288) of the cadences will be ignored due to the quality mask (quality_bitmask=17087).\n",
            "WARNING:lightkurve.utils:Warning: 32% (408/1288) of the cadences will be ignored due to the quality mask (quality_bitmask=17087).\n",
            " 78%|███████▊  | 391/500 [30:37<05:28,  3.01s/it]Warning: 32% (408/1288) of the cadences will be ignored due to the quality mask (quality_bitmask=17087).\n",
            "WARNING:lightkurve.utils:Warning: 32% (408/1288) of the cadences will be ignored due to the quality mask (quality_bitmask=17087).\n",
            " 82%|████████▏ | 408/500 [31:10<03:46,  2.47s/it]Warning: 32% (409/1288) of the cadences will be ignored due to the quality mask (quality_bitmask=17087).\n",
            "WARNING:lightkurve.utils:Warning: 32% (409/1288) of the cadences will be ignored due to the quality mask (quality_bitmask=17087).\n",
            " 82%|████████▏ | 412/500 [31:22<02:58,  2.03s/it]Warning: 32% (408/1288) of the cadences will be ignored due to the quality mask (quality_bitmask=17087).\n",
            "WARNING:lightkurve.utils:Warning: 32% (408/1288) of the cadences will be ignored due to the quality mask (quality_bitmask=17087).\n",
            " 88%|████████▊ | 439/500 [33:14<04:39,  4.58s/it]Warning: 22% (725/3354) of the cadences will be ignored due to the quality mask (quality_bitmask=17087).\n",
            "WARNING:lightkurve.utils:Warning: 22% (725/3354) of the cadences will be ignored due to the quality mask (quality_bitmask=17087).\n",
            " 90%|████████▉ | 449/500 [33:44<01:59,  2.34s/it]Warning: 33% (421/1288) of the cadences will be ignored due to the quality mask (quality_bitmask=17087).\n",
            "WARNING:lightkurve.utils:Warning: 33% (421/1288) of the cadences will be ignored due to the quality mask (quality_bitmask=17087).\n",
            " 91%|█████████ | 455/500 [34:07<02:45,  3.69s/it]Warning: 32% (408/1288) of the cadences will be ignored due to the quality mask (quality_bitmask=17087).\n",
            "WARNING:lightkurve.utils:Warning: 32% (408/1288) of the cadences will be ignored due to the quality mask (quality_bitmask=17087).\n",
            " 95%|█████████▌| 475/500 [35:35<01:39,  3.97s/it]Warning: 32% (408/1288) of the cadences will be ignored due to the quality mask (quality_bitmask=17087).\n",
            "WARNING:lightkurve.utils:Warning: 32% (408/1288) of the cadences will be ignored due to the quality mask (quality_bitmask=17087).\n",
            " 98%|█████████▊| 489/500 [37:34<00:56,  5.16s/it]Warning: 32% (408/1288) of the cadences will be ignored due to the quality mask (quality_bitmask=17087).\n",
            "WARNING:lightkurve.utils:Warning: 32% (408/1288) of the cadences will be ignored due to the quality mask (quality_bitmask=17087).\n",
            "100%|██████████| 500/500 [48:58<00:00,  5.88s/it]"
          ]
        },
        {
          "output_type": "stream",
          "name": "stdout",
          "text": [
            "Successfully created a list of 474 collections for false positives.\n"
          ]
        },
        {
          "output_type": "stream",
          "name": "stderr",
          "text": [
            "\n"
          ]
        }
      ],
      "source": [
        "warnings.filterwarnings('ignore', message='.*has a unit but is kept as a Column.*')\n",
        "print(\"Downloading confirmed planet data from NASA Exoplanet Archive...\")\n",
        "try:\n",
        "    confirmed_planets_catalog = NasaExoplanetArchive.query_criteria(\n",
        "        table=\"pscomppars\", select=\"tic_id, pl_name\"\n",
        "    )\n",
        "    confirmed_planets_df = confirmed_planets_catalog.to_pandas()\n",
        "    if 'tic_id' in confirmed_planets_df.columns and not confirmed_planets_df['tic_id'].isnull().all():\n",
        "        planet_tics = [f\"TIC {tic_id}\" for tic_id in confirmed_planets_df['tic_id'].dropna().astype(str).str.replace('TIC ', '').unique()]\n",
        "        print(f\"Found {len(planet_tics)} unique TIC IDs with confirmed planets.\")\n",
        "    else:\n",
        "        planet_tics = []\n",
        "except Exception as e:\n",
        "    print(f\"Could not query NASA Exoplanet Archive for confirmed planets: {e}\")\n",
        "    planet_tics = []\n",
        "\n",
        "print(\"\\nDownloading false positive data from NASA Exoplanet Archive (TOI Table)...\")\n",
        "try:\n",
        "    toi_catalog = NasaExoplanetArchive.query_criteria(\n",
        "        table=\"toi\", select=\"tid, tfopwg_disp\"\n",
        "    )\n",
        "    toi_df = toi_catalog.to_pandas()\n",
        "    fp_mask = toi_df['tfopwg_disp'] == 'FP'\n",
        "    fp_df = toi_df[fp_mask]\n",
        "    fp_tics = [f\"TIC {int(tid)}\" for tid in fp_df['tid'].dropna().unique()]\n",
        "    print(f\"Found {len(fp_tics)} unique TIC IDs classified as False Positives (stars).\")\n",
        "except Exception as e:\n",
        "    print(f\"Could not query TOI Catalog for false positives: {e}\")\n",
        "    fp_tics = []\n",
        "\n",
        "\n",
        "# --- Step 3: Download Planet Light Curves ---\n",
        "print(\"\\n--- Downloading Planet Light Curves (One by One) ---\")\n",
        "list_of_planet_collections = []\n",
        "if planet_tics:\n",
        "    tics_to_download = planet_tics[:500]\n",
        "    print(f\"Downloading all TESS light curves for {len(tics_to_download)} hosts...\")\n",
        "\n",
        "    with warnings.catch_warnings():\n",
        "        warnings.simplefilter(\"ignore\", UserWarning)\n",
        "        for tic in tqdm(tics_to_download):\n",
        "            try:\n",
        "                search_result = lk.search_lightcurve(target=tic, mission=\"TESS\")\n",
        "                spoc_result = search_result[search_result.author == \"TESS-SPOC\"]\n",
        "                if len(spoc_result) > 0:\n",
        "                    lc_collection_for_tic = spoc_result.download_all()\n",
        "                    list_of_planet_collections.append(lc_collection_for_tic)\n",
        "            except Exception:\n",
        "                continue\n",
        "\n",
        "    print(f\"Successfully created a list of {len(list_of_planet_collections)} collections for planets.\")\n",
        "else:\n",
        "    print(\"No planet TICs to download.\")\n",
        "\n",
        "\n",
        "# --- Step 4: Download False Positive Light Curves ---\n",
        "print(\"\\n--- Downloading False Positive Light Curves (One by One) ---\")\n",
        "list_of_fp_collections = []\n",
        "if fp_tics:\n",
        "    tics_to_download = fp_tics[:500]\n",
        "    print(f\"Downloading all TESS light curves for {len(tics_to_download)} false positives...\")\n",
        "\n",
        "    with warnings.catch_warnings():\n",
        "        warnings.simplefilter(\"ignore\", UserWarning)\n",
        "        for tic in tqdm(tics_to_download):\n",
        "            try:\n",
        "                search_result = lk.search_lightcurve(target=tic, mission=\"TESS\")\n",
        "                spoc_result = search_result[search_result.author == \"TESS-SPOC\"]\n",
        "                if len(spoc_result) > 0:\n",
        "                    lc_collection_for_tic = spoc_result.download_all()\n",
        "                    list_of_fp_collections.append(lc_collection_for_tic)\n",
        "            except Exception:\n",
        "                continue\n",
        "\n",
        "    print(f\"Successfully created a list of {len(list_of_fp_collections)} collections for false positives.\")\n",
        "else:\n",
        "    print(\"No false positive TICs to download.\")"
      ]
    },
    {
      "cell_type": "code",
      "execution_count": 5,
      "metadata": {
        "collapsed": true,
        "id": "J1I7RbG3nseU",
        "colab": {
          "base_uri": "https://localhost:8080/",
          "height": 143
        },
        "outputId": "f6e42240-9a60-4530-e9d2-f63ae81170b5"
      },
      "outputs": [
        {
          "output_type": "execute_result",
          "data": {
            "text/plain": [
              "'\\ntry:\\n    print(\"Searching for data in TESS...\")\\n    search_result = lk.search_lightcurve(SkyCoord.from_name(\"Galactic Center\"), mission=\\'TESS\\', radius=0.25*u.degree, exposure = 600.0)\\n\\n    #print(\"Filtering for 600s exposure time...\")\\n    #filtered_results = search_result[search_result.exptime.value == 600]\\n    filtered_results = search_result\\n\\n    print(f\"Found {len(filtered_results)} light curves. Downloading...\")\\n    lc_collection = filtered_results.download_all()\\n    print(\"Download complete.\")\\n\\nexcept Exception as e:\\n    print(f\"An error occurred during download: {e}\")\\n    lc_collection = None\\n'"
            ],
            "application/vnd.google.colaboratory.intrinsic+json": {
              "type": "string"
            }
          },
          "metadata": {},
          "execution_count": 5
        }
      ],
      "source": [
        "#outdated data scrapping\n",
        "'''\n",
        "try:\n",
        "    print(\"Searching for data in TESS...\")\n",
        "    search_result = lk.search_lightcurve(SkyCoord.from_name(\"Galactic Center\"), mission='TESS', radius=0.25*u.degree, exposure = 600.0)\n",
        "\n",
        "    #print(\"Filtering for 600s exposure time...\")\n",
        "    #filtered_results = search_result[search_result.exptime.value == 600]\n",
        "    filtered_results = search_result\n",
        "\n",
        "    print(f\"Found {len(filtered_results)} light curves. Downloading...\")\n",
        "    lc_collection = filtered_results.download_all()\n",
        "    print(\"Download complete.\")\n",
        "\n",
        "except Exception as e:\n",
        "    print(f\"An error occurred during download: {e}\")\n",
        "    lc_collection = None\n",
        "'''"
      ]
    },
    {
      "cell_type": "code",
      "execution_count": 6,
      "metadata": {
        "id": "x7HhBAkiOPNO"
      },
      "outputs": [],
      "source": [
        "def find_period_from_sectors(lc_collection, min_power=10, max_search_points=50000):\n",
        "    if not lc_collection:\n",
        "        return None\n",
        "\n",
        "    results = []\n",
        "    # Define the transit durations to search for (~1 to 12 hours)\n",
        "    duration_grid = np.linspace(0.04, 0.5, 20)\n",
        "\n",
        "    for lc_sector in lc_collection:\n",
        "        try:\n",
        "            bls = lc_sector.remove_nans().to_periodogram(\n",
        "                method='bls',\n",
        "                duration=duration_grid,\n",
        "                # --- FINAL FIX: Add a minimum_period constraint ---\n",
        "                # This prevents the error for short-period objects.\n",
        "                minimum_period=np.max(duration_grid) + 0.01\n",
        "            )\n",
        "            power = np.max(bls.power.value)\n",
        "\n",
        "            if power > min_power:\n",
        "                period = bls.period_at_max_power\n",
        "                duration = bls.duration_at_max_power\n",
        "                transit_time = bls.transit_time_at_max_power\n",
        "                # Store the results with the power as a score\n",
        "                results.append({'period': period, 'duration': duration,\n",
        "                                'transit_time': transit_time, 'power': power})\n",
        "        except Exception:\n",
        "            continue\n",
        "\n",
        "    if results:\n",
        "        # Return the dictionary of parameters from the search with the highest power\n",
        "        best_result = max(results, key=lambda x: x['power'])\n",
        "        return best_result\n",
        "    else:\n",
        "        return None"
      ]
    },
    {
      "cell_type": "code",
      "execution_count": 7,
      "metadata": {
        "id": "U0hpTTEZxiEZ"
      },
      "outputs": [],
      "source": [
        "def condenseData(list_of_collections):\n",
        "\n",
        "    if not list_of_collections:\n",
        "        return []\n",
        "\n",
        "    stitched_lightcurves = []\n",
        "    # Use tqdm for a progress bar\n",
        "    for lc_collection in tqdm(list_of_collections, desc=\"Stitching collections\"):\n",
        "        params = find_period_from_sectors(lc_collection)\n",
        "        try:\n",
        "            # Stitch all light curves within this one collection\n",
        "            stitched_lc = lc_collection.stitch()\n",
        "            stitched_lightcurves.append((stitched_lc, params))\n",
        "        except Exception as e:\n",
        "            # Gracefully skip any collections that fail to stitch\n",
        "            target_id = lc_collection[0].TARGETID if lc_collection else 'Unknown'\n",
        "            print(f\"\\nWarning: Could not stitch collection for TIC {target_id}. Reason: {e}\")\n",
        "            continue\n",
        "\n",
        "    print(f\"Successfully stitched {len(stitched_lightcurves)} light curves.\")\n",
        "    return stitched_lightcurves"
      ]
    },
    {
      "cell_type": "code",
      "execution_count": 8,
      "metadata": {
        "id": "NKtj7G50zidy"
      },
      "outputs": [],
      "source": [
        "def preprocess_lightcurve(lc_tuple):\n",
        "    stitched_lc, params = lc_tuple\n",
        "    if not params:\n",
        "        return None\n",
        "    try:\n",
        "        period = params['period']\n",
        "        duration = params['duration']\n",
        "        transit_time = params['transit_time']\n",
        "\n",
        "        # Dynamically set the window size for flattening\n",
        "        window = int(duration.value * 5)\n",
        "        if window % 2 == 0: window += 1\n",
        "        if window < 21: window = 21\n",
        "\n",
        "        # Flatten, fold, and prepare the final data product\n",
        "        flat_lc = stitched_lc.flatten(window_length=window)\n",
        "        folded_lc = flat_lc.fold(period=period, epoch_time=transit_time)\n",
        "        zoomed_lc = folded_lc[(folded_lc.time.value > -0.5) & (folded_lc.time.value < 0.5)]\n",
        "        binned_lc = zoomed_lc.bin(time_bin_size=0.01)\n",
        "\n",
        "        # Final safety check and manual normalization\n",
        "        median_flux = np.nanmedian(binned_lc.flux.value)\n",
        "        if np.isclose(median_flux, 0): return None\n",
        "        processed_lc = binned_lc / median_flux\n",
        "\n",
        "        return processed_lc\n",
        "    except Exception as e:\n",
        "        target_id = stitched_lc.TARGETID if hasattr(stitched_lc, 'TARGETID') else 'Unknown'\n",
        "        print(f\"Could not process light curve for target {target_id}. Reason: {e}\")\n",
        "        return None"
      ]
    },
    {
      "cell_type": "code",
      "execution_count": 9,
      "metadata": {
        "id": "B-eleD9j1bEh",
        "colab": {
          "base_uri": "https://localhost:8080/"
        },
        "outputId": "23fe3b4a-c637-4caf-fc11-c5be95073b07"
      },
      "outputs": [
        {
          "output_type": "stream",
          "name": "stderr",
          "text": [
            "Stitching collections: 100%|██████████| 408/408 [11:31<00:00,  1.69s/it]\n"
          ]
        },
        {
          "output_type": "stream",
          "name": "stdout",
          "text": [
            "Successfully stitched 408 light curves.\n"
          ]
        },
        {
          "output_type": "stream",
          "name": "stderr",
          "text": [
            "Stitching collections: 100%|██████████| 474/474 [19:58<00:00,  2.53s/it]"
          ]
        },
        {
          "output_type": "stream",
          "name": "stdout",
          "text": [
            "Successfully stitched 474 light curves.\n"
          ]
        },
        {
          "output_type": "stream",
          "name": "stderr",
          "text": [
            "\n"
          ]
        }
      ],
      "source": [
        "stitched_lightcurves_planets = condenseData(list_of_planet_collections)\n",
        "stitched_lightcurves_fps = condenseData(list_of_fp_collections)"
      ]
    },
    {
      "cell_type": "code",
      "execution_count": null,
      "metadata": {
        "id": "XFJI56nBJCbX"
      },
      "outputs": [],
      "source": [
        "processed_lcs_planets = []\n",
        "processed_lcs_fps = []\n",
        "for lc in stitched_lightcurves_planets:\n",
        "    processed_lcs_planets.append(preprocess_lightcurve(lc))\n",
        "for lc in stitched_lightcurves_fps:\n",
        "    processed_lcs_fps.append(preprocess_lightcurve(lc))\n",
        "\n"
      ]
    },
    {
      "cell_type": "code",
      "execution_count": null,
      "metadata": {
        "id": "-ewBwD3aYu-k"
      },
      "outputs": [],
      "source": [
        "def sufficient_snr(processed_lc, min_snr=1):\n",
        "    out_of_dip_mask = np.abs(processed_lc.time.value) > 0.1\n",
        "    noise = np.std(processed_lc.flux.value[out_of_dip_mask])\n",
        "\n",
        "    # The dip depth is the minimum flux value (since the baseline is at 1.0)\n",
        "    dip_depth = 1.0 - np.min(processed_lc.flux.value)\n",
        "\n",
        "    # Calculate the Signal-to-Noise Ratio\n",
        "    snr = dip_depth / noise\n",
        "\n",
        "    return snr >= min_snr"
      ]
    },
    {
      "cell_type": "code",
      "execution_count": null,
      "metadata": {
        "id": "YFprbOw4KxH3"
      },
      "outputs": [],
      "source": [
        "def prepareDataset (planets, fps):\n",
        "  dataset = []\n",
        "  for lc in planets:\n",
        "    if sufficient_snr(lc):\n",
        "      dataset.append((lc, True))\n",
        "  for lc in fps:\n",
        "    if sufficient_snr(lc):\n",
        "      dataset.append((lc, False))\n",
        "  return dataset\n"
      ]
    },
    {
      "cell_type": "code",
      "execution_count": null,
      "metadata": {
        "id": "j0Ct8NhSbFRG"
      },
      "outputs": [],
      "source": [
        "output_filename = 'my_dataset.pkl'\n",
        "full_dataset = prepareDataset(processed_lcs_planets, processed_lcs_fps)\n",
        "# Use 'wb' to write the file in binary mode\n",
        "with open(output_filename, 'wb') as f:\n",
        "    pickle.dump(full_dataset, f)\n",
        "\n",
        "print(f\"Dataset with {len(full_dataset)} items was successfully saved to '{output_filename}'\")"
      ]
    },
    {
      "cell_type": "code",
      "execution_count": null,
      "metadata": {
        "collapsed": true,
        "id": "U-u7pSe7a5k8"
      },
      "outputs": [],
      "source": [
        "for lc in processed_lcs_planets:\n",
        "    if sufficient_snr(lc):\n",
        "      lc.plot(title=\"Planet Candidate\") # Add a title for planet light curves\n",
        "      #plt.close() # Close the plot to avoid the warning\n",
        "\n",
        "\n",
        "for lc in processed_lcs_fps:\n",
        "    if sufficient_snr(lc):\n",
        "      lc.plot(title=\"False Positive (Star)\") # Add a title for false positive light curves\n",
        "      #plt.close() # Close the plot to avoid the warning"
      ]
    }
  ],
  "metadata": {
    "colab": {
      "provenance": [],
      "authorship_tag": "ABX9TyNzNiF8ZdxbR5l/3pdsIupk",
      "include_colab_link": true
    },
    "kernelspec": {
      "display_name": "Python 3",
      "name": "python3"
    },
    "language_info": {
      "name": "python"
    }
  },
  "nbformat": 4,
  "nbformat_minor": 0
}